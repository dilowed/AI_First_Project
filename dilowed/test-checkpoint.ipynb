{
 "cells": [
  {
   "cell_type": "code",
   "execution_count": 37,
   "id": "0ebd2701",
   "metadata": {},
   "outputs": [],
   "source": [
    "import math\n",
    "import heapq\n",
    "import sys\n",
    "from collections import defaultdict, deque"
   ]
  },
  {
   "cell_type": "code",
   "execution_count": 38,
   "id": "29980baa",
   "metadata": {},
   "outputs": [],
   "source": [
    "def dist(pnt1, pnt2): #pnt1과 pnt2 사이의 거리를 반환\n",
    "    return abs(pnt1[0]-pnt2[0]) + abs(pnt1[1]-pnt2[1])"
   ]
  },
  {
   "cell_type": "code",
   "execution_count": 39,
   "id": "2899adc0",
   "metadata": {},
   "outputs": [],
   "source": [
    "class Board:\n",
    "    def __init__(self, start, end, dirt):\n",
    "        self.start = start\n",
    "        self.end = end\n",
    "        self.dirt = dirt\n",
    "        \n",
    "    def h(self):\n",
    "        tmp = self.dirt # 남은 먼지 위치 list\n",
    "        pos = self.start # 현재 위치\n",
    "        appro = 0 # 경로 값의 휴리스틱 예상 값\n",
    "        for i in range(len(self.dirt)):\n",
    "            mini = 2 * 9; \n",
    "            minindex = -1\n",
    "            for j in range(len(tmp)):\n",
    "                if(mini > dist(pos, tmp[j])):\n",
    "                    mini = dist(pos, tmp[j])\n",
    "                    minindex = j\n",
    "            appro += (mini+1)\n",
    "            pos = tmp[minindex]\n",
    "            del(tmp[minindex])\n",
    "        appro += dist(pos, self.end)\n",
    "        return appro"
   ]
  },
  {
   "cell_type": "code",
   "execution_count": 40,
   "id": "0b008125",
   "metadata": {},
   "outputs": [],
   "source": [
    "class Node:\n",
    "    def __init__(self, parent=None, state=None):\n",
    "        self.parent = parent\n",
    "        self.f = 0\n",
    "        self.g = 0\n",
    "        self.h = 0\n",
    "        self.state = state\n",
    "    def __lt__(self, other):\n",
    "        return (self.f < other.f)"
   ]
  },
  {
   "cell_type": "code",
   "execution_count": 41,
   "id": "5e46d0c8",
   "metadata": {},
   "outputs": [],
   "source": [
    "def aStar(start, end, dirt):\n",
    "    startNode = Node(None,Board(start,end,dirt))\n",
    "    return 0\n",
    "    "
   ]
  },
  {
   "cell_type": "code",
   "execution_count": 42,
   "id": "d9f0ef0a",
   "metadata": {},
   "outputs": [],
   "source": [
    "def main():\n",
    "    result = aStar((1,1), (9,9), [(1,3),(2,4),(3,5)])\n",
    "    print(result)"
   ]
  },
  {
   "cell_type": "code",
   "execution_count": 43,
   "id": "cd6a8276",
   "metadata": {},
   "outputs": [
    {
     "name": "stdout",
     "output_type": "stream",
     "text": [
      "0\n"
     ]
    }
   ],
   "source": [
    "main()"
   ]
  }
 ],
 "metadata": {
  "kernelspec": {
   "display_name": "Python 3",
   "language": "python",
   "name": "python3"
  },
  "language_info": {
   "codemirror_mode": {
    "name": "ipython",
    "version": 3
   },
   "file_extension": ".py",
   "mimetype": "text/x-python",
   "name": "python",
   "nbconvert_exporter": "python",
   "pygments_lexer": "ipython3",
   "version": "3.8.8"
  }
 },
 "nbformat": 4,
 "nbformat_minor": 5
}
