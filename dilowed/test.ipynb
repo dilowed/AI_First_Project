{
 "cells": [
  {
   "cell_type": "code",
   "execution_count": 293,
   "id": "0ebd2701",
   "metadata": {},
   "outputs": [],
   "source": [
    "import math\n",
    "import heapq\n",
    "import sys\n",
    "import random\n",
    "from collections import defaultdict, deque"
   ]
  },
  {
   "cell_type": "code",
   "execution_count": 294,
   "id": "29980baa",
   "metadata": {},
   "outputs": [],
   "source": [
    "def dist(pnt1, pnt2): #pnt1과 pnt2 사이의 거리를 반환\n",
    "    return abs(pnt1[0]-pnt2[0]) + abs(pnt1[1]-pnt2[1])"
   ]
  },
  {
   "cell_type": "code",
   "execution_count": 295,
   "id": "2899adc0",
   "metadata": {},
   "outputs": [],
   "source": [
    "class Board:\n",
    "    def __init__(self, start, end, dirt):\n",
    "        self.start = start\n",
    "        self.end = end\n",
    "        self.dirt = dirt\n",
    "        \n",
    "    def H(self): # 가장 가까운 점을 방문하는 것을 반복하였을 때의 이동 비용 휴리스틱\n",
    "        tmp = self.dirt.copy() # 남은 먼지 위치 list\n",
    "        pos = self.start # 현재 위치\n",
    "        appro = 0 # 경로 값의 휴리스틱 예상 값\n",
    "        for i in range(len(self.dirt)):\n",
    "            mini = 2 * 105; \n",
    "            minindex = -1\n",
    "            for j in range(len(tmp)):\n",
    "                if(mini > dist(pos, tmp[j])):\n",
    "                    mini = dist(pos, tmp[j])\n",
    "                    minindex = j\n",
    "            appro += (mini+1)\n",
    "            pos = tmp[minindex]\n",
    "            del(tmp[minindex])\n",
    "        appro += dist(pos, self.end)\n",
    "        return appro"
   ]
  },
  {
   "cell_type": "code",
   "execution_count": 296,
   "id": "0b008125",
   "metadata": {},
   "outputs": [],
   "source": [
    "class Node:\n",
    "    def __init__(self, parent=None, board=None):\n",
    "        self.parent = parent\n",
    "        self.f = 0\n",
    "        self.g = 0\n",
    "        self.h = 0\n",
    "        self.board = board\n",
    "    def __lt__(self, other):\n",
    "        return (self.f < other.f)\n",
    "    def pathprint(self):\n",
    "        printlist = []\n",
    "        tmp = Node(self.parent, self.board)\n",
    "        printlist.append(tmp.board.start)\n",
    "        while(tmp.parent != None):\n",
    "            tmp = tmp.parent\n",
    "            printlist.append(tmp.board.start)\n",
    "        print(printlist[::-1])\n",
    "        "
   ]
  },
  {
   "cell_type": "code",
   "execution_count": 297,
   "id": "5e46d0c8",
   "metadata": {},
   "outputs": [],
   "source": [
    "def aStar(start, end, dirt):\n",
    "    startBoard = Board(start,end,dirt)\n",
    "    startNode = Node(None,startBoard)\n",
    "    startNode.g = 0\n",
    "    startNode.h = startNode.board.H()\n",
    "    startNode.f = startNode.g + startNode.h\n",
    "    #startNode.nodeprint()\n",
    "    openList = []\n",
    "    closedList = []\n",
    "    heapq.heappush(openList, startNode)\n",
    "    while openList:\n",
    "        currentNode = heapq.heappop(openList)\n",
    "        #print(str(currentNode.f) + \" \" + str(len(currentNode.board.dirt)))\n",
    "        closedList.append(currentNode)\n",
    "        if(currentNode.board.start == currentNode.board.end):\n",
    "            print(\"탐색된 노드 개수\"+str(len(closedList)+1))\n",
    "            return currentNode\n",
    "        \n",
    "        if(len(currentNode.board.dirt) == 0):\n",
    "            child = Node(currentNode, Board(currentNode.board.end, currentNode.board.end, currentNode.board.dirt))\n",
    "            child.g = currentNode.g + dist(currentNode.board.start, currentNode.board.end)\n",
    "            child.h = child.board.H()\n",
    "            child.f = child.g + child.h\n",
    "            heapq.heappush(openList, child)\n",
    "        \n",
    "        else:\n",
    "            for i in range(len(currentNode.board.dirt)): # 다음 먼지로 dirt[i]를 고른 경우\n",
    "                childdirt = currentNode.board.dirt.copy()\n",
    "                del(childdirt[i])\n",
    "                child = Node(currentNode, Board(currentNode.board.dirt[i], currentNode.board.end, childdirt))\n",
    "                child.g = currentNode.g + dist(currentNode.board.start, currentNode.board.dirt[i]) + 1\n",
    "                child.h = child.board.H()\n",
    "                child.f = child.g + child.h\n",
    "                #print(\"->\" + str(child.f))\n",
    "                heapq.heappush(openList, child)\n",
    "    \n",
    "    "
   ]
  },
  {
   "cell_type": "code",
   "execution_count": 298,
   "id": "d9f0ef0a",
   "metadata": {},
   "outputs": [],
   "source": [
    "def main():\n",
    "    \"\"\"\n",
    "    result = aStar((1,1), (4,4), [(1,3),(2,4),(4,2)])\n",
    "    print(result.f)\n",
    "    result.pathprint()\n",
    "    result2 = aStar((1,1),(5,5),[(2,2),(2,3),(2,4),(3,2),(3,3),(3,4),(4,2),(4,3),(4,4)])\n",
    "    print(result2.f)\n",
    "    result2.pathprint()\n",
    "    result3 = aStar((1,1),(9,9),[(1,6),(1,9),(2,4),(3,2),(3,7),(4,4),(5,9),(6,1),(7,6),(8,3),(9,1),(9,6)])\n",
    "    print(result3.f)\n",
    "    result3.pathprint()\n",
    "    \"\"\"\n",
    "    inputlist = []\n",
    "    for i in range(13):\n",
    "        rnd = random.randint(1,9998)\n",
    "        x = rnd // 100 + 1\n",
    "        y = rnd % 100 + 1\n",
    "        inputlist.append((x,y))\n",
    "    print(\"Random Input : \" )\n",
    "    for i in inputlist:\n",
    "        print(str(i[0])+\" \"+str(i[1]))\n",
    "    #print(inputlist)\n",
    "    randresult = aStar((1,1),(100,100),inputlist)\n",
    "    print(randresult.f)\n",
    "    randresult.pathprint()"
   ]
  },
  {
   "cell_type": "code",
   "execution_count": 299,
   "id": "cd6a8276",
   "metadata": {},
   "outputs": [
    {
     "name": "stdout",
     "output_type": "stream",
     "text": [
      "Random Input : \n",
      "58 74\n",
      "7 3\n",
      "12 44\n",
      "19 57\n",
      "34 85\n",
      "44 14\n",
      "35 34\n",
      "11 92\n",
      "30 59\n",
      "39 38\n",
      "3 88\n",
      "94 5\n",
      "56 93\n",
      "탐색된 노드 개수26\n",
      "471\n",
      "[(1, 1), (7, 3), (94, 5), (44, 14), (35, 34), (39, 38), (30, 59), (19, 57), (12, 44), (11, 92), (3, 88), (34, 85), (58, 74), (56, 93), (100, 100)]\n"
     ]
    }
   ],
   "source": [
    "main()"
   ]
  },
  {
   "cell_type": "code",
   "execution_count": null,
   "id": "12e81b9b",
   "metadata": {},
   "outputs": [],
   "source": []
  },
  {
   "cell_type": "code",
   "execution_count": null,
   "id": "ce0c0d67",
   "metadata": {},
   "outputs": [],
   "source": []
  },
  {
   "cell_type": "code",
   "execution_count": null,
   "id": "829a9ce6",
   "metadata": {},
   "outputs": [],
   "source": []
  }
 ],
 "metadata": {
  "kernelspec": {
   "display_name": "Python 3",
   "language": "python",
   "name": "python3"
  },
  "language_info": {
   "codemirror_mode": {
    "name": "ipython",
    "version": 3
   },
   "file_extension": ".py",
   "mimetype": "text/x-python",
   "name": "python",
   "nbconvert_exporter": "python",
   "pygments_lexer": "ipython3",
   "version": "3.8.8"
  }
 },
 "nbformat": 4,
 "nbformat_minor": 5
}
